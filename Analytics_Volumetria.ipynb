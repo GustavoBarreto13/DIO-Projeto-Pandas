{
 "cells": [
  {
   "cell_type": "markdown",
   "metadata": {},
   "source": [
    "# Analytics Request Configuration"
   ]
  },
  {
   "cell_type": "code",
   "execution_count": 1,
   "metadata": {},
   "outputs": [],
   "source": [
    "from googleapiclient.discovery import build\n",
    "from google.oauth2.service_account import Credentials\n",
    "from google.oauth2 import service_account\n",
    "from datetime import date\n",
    "import pandas as pd \n",
    "from configs.settings import KEY_FILE_LOCATION, SCOPES, VIEW_ID\n",
    "\n",
    "data_inicio = \"2022-09-01\"\n",
    "data_fim = \"2022-09-30\"\n",
    "\n",
    "def initialize_analyticsreporting():\n",
    "    credentials = Credentials.from_service_account_file(KEY_FILE_LOCATION, scopes=SCOPES)\n",
    "    analytics = build(\"analyticsreporting\", \"v4\", credentials=credentials)\n",
    "    return analytics"
   ]
  },
  {
   "cell_type": "markdown",
   "metadata": {},
   "source": [
    "## Report Configurations"
   ]
  },
  {
   "cell_type": "code",
   "execution_count": 2,
   "metadata": {},
   "outputs": [],
   "source": [
    "message_df = pd.DataFrame({ \n",
    "                            'eventAction': pd.Series(dtype='str'),\n",
    "                            'totalEvents': pd.Series(dtype='int'),\n",
    "                            'ViewID': pd.Series(dtype='int')\n",
    "                          }) \n",
    "\n",
    "count_view = 0\n",
    "\n",
    "while count_view < len(VIEW_ID):\n",
    "\n",
    "\n",
    "    def get_report_visao_geral(analytics): # Definir Dimensions, Metrics e Segments\n",
    "        return analytics.reports().batchGet(body={\"reportRequests\": [\n",
    "        {\n",
    "            \"viewId\": VIEW_ID[count_view],\n",
    "            \"dateRanges\": [{\"startDate\": data_inicio, \"endDate\": data_fim}],\n",
    "            \"dimensions\": [\n",
    "                {\"name\": \"ga:date\"},\n",
    "                {\"name\": \"ga:eventAction\"},\n",
    "            ], \n",
    "            \"metrics\": [\n",
    "                {\"expression\": \"ga:totalEvents\"},\n",
    "            ],\n",
    "        },\n",
    "\n",
    "        ]}).execute()\n",
    "\n",
    "    def response(response): # Transform Json to DF\n",
    "        report = response.get(\"reports\", [])[0] # expected just one report\n",
    "        # headers\n",
    "        header_dimensions = report.get(\"columnHeader\", {}).get(\"dimensions\", [])\n",
    "        header_metrics = [value[\"name\"] for value in report.get(\"columnHeader\", {}).get(\"metricHeader\", {}).get(\"metricHeaderEntries\", [])]\n",
    "        headers = header_dimensions + header_metrics\n",
    "        headers = list(map((lambda x: x.split(\":\", 1)[-1]), headers)) # removes \"ga:\" from each column\n",
    "        # values\n",
    "        values = []\n",
    "        rows = report.get(\"data\", {}).get(\"rows\", [])\n",
    "        for row in rows:\n",
    "            values_dimensions = row.get(\"dimensions\", [])\n",
    "            values_metrics = row.get(\"metrics\", [])[0].get(\"values\", [])\n",
    "            values.append(values_dimensions + values_metrics)\n",
    "        # to dataframe\n",
    "        df = pd.DataFrame(columns=headers, data=values)\n",
    "        return df\n",
    "\n",
    "    analytics = initialize_analyticsreporting()\n",
    "    response_visao_geral = get_report_visao_geral(analytics)\n",
    "    df = response(response_visao_geral)\n",
    "\n",
    "    df['ViewID'] = VIEW_ID[count_view]\n",
    "\n",
    "    message_df = pd.concat([message_df, df], ignore_index=True)\n",
    "    VIEW_ID\n",
    "    count_view = count_view + 1\n",
    "\n",
    "message_df = message_df.astype({'totalEvents':'int','eventAction':'string', 'ViewID':'string', 'date':'string'})\n",
    "message_df = pd.pivot_table(data= message_df, index = ['date', 'ViewID'], columns='eventAction', values='totalEvents')"
   ]
  },
  {
   "cell_type": "code",
   "execution_count": 3,
   "metadata": {},
   "outputs": [],
   "source": [
    "user_df = pd.DataFrame({ \n",
    "                        'ViewID': pd.Series(dtype='int'),\n",
    "                       }) \n",
    "\n",
    "count_view = 0\n",
    "\n",
    "while count_view < len(VIEW_ID):\n",
    "\n",
    "\n",
    "    def get_report_visao_geral(analytics): # Definir Dimensions, Metrics e Segments\n",
    "        return analytics.reports().batchGet(body={\"reportRequests\": [\n",
    "        {\n",
    "            \"viewId\": VIEW_ID[count_view],\n",
    "            \"dateRanges\": [{\"startDate\": data_inicio, \"endDate\": data_fim}],\n",
    "            \"dimensions\": [\n",
    "                {\"name\": \"ga:date\"}\n",
    "            ], \n",
    "            \"metrics\": [\n",
    "                {\"expression\": \"ga:users\"},\n",
    "                {\"expression\": \"ga:sessions\"},\n",
    "            ],\n",
    "        },\n",
    "\n",
    "        ]}).execute()\n",
    "\n",
    "    def response(response): # Transform Json to DF\n",
    "        report = response.get(\"reports\", [])[0] # expected just one report\n",
    "        # headers\n",
    "        header_dimensions = report.get(\"columnHeader\", {}).get(\"dimensions\", [])\n",
    "        header_metrics = [value[\"name\"] for value in report.get(\"columnHeader\", {}).get(\"metricHeader\", {}).get(\"metricHeaderEntries\", [])]\n",
    "        headers = header_dimensions + header_metrics\n",
    "        headers = list(map((lambda x: x.split(\":\", 1)[-1]), headers)) # removes \"ga:\" from each column\n",
    "        # values\n",
    "        values = []\n",
    "        rows = report.get(\"data\", {}).get(\"rows\", [])\n",
    "        for row in rows:\n",
    "            values_dimensions = row.get(\"dimensions\", [])\n",
    "            values_metrics = row.get(\"metrics\", [])[0].get(\"values\", [])\n",
    "            values.append(values_dimensions + values_metrics)\n",
    "        # to dataframe\n",
    "        df = pd.DataFrame(columns=headers, data=values)\n",
    "        return df\n",
    "\n",
    "    analytics = initialize_analyticsreporting()\n",
    "    response_visao_geral = get_report_visao_geral(analytics)\n",
    "    df = response(response_visao_geral)\n",
    "\n",
    "    df['ViewID'] = VIEW_ID[count_view]\n",
    "\n",
    "    user_df = pd.concat([user_df, df], ignore_index=True)\n",
    "    \n",
    "    count_view = count_view + 1\n",
    "\n",
    "user_df = user_df.astype({'users':'int','sessions':'int', 'ViewID':'string', 'date':'string'})"
   ]
  },
  {
   "cell_type": "code",
   "execution_count": 4,
   "metadata": {},
   "outputs": [],
   "source": [
    "final_df = message_df.merge(user_df,how='right',left_on=['ViewID', 'date'],right_on=['ViewID', 'date'])"
   ]
  }
 ],
 "metadata": {
  "kernelspec": {
   "display_name": "Python 3.9.12 ('base')",
   "language": "python",
   "name": "python3"
  },
  "language_info": {
   "codemirror_mode": {
    "name": "ipython",
    "version": 3
   },
   "file_extension": ".py",
   "mimetype": "text/x-python",
   "name": "python",
   "nbconvert_exporter": "python",
   "pygments_lexer": "ipython3",
   "version": "3.9.12"
  },
  "orig_nbformat": 4,
  "vscode": {
   "interpreter": {
    "hash": "88b821726d5ec56348fa93129ac7efaa86e3fb132543118926cc99e3c40f0980"
   }
  }
 },
 "nbformat": 4,
 "nbformat_minor": 2
}
